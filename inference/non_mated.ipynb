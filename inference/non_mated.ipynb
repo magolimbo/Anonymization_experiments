{
 "cells": [
  {
   "cell_type": "markdown",
   "metadata": {},
   "source": [
    "# generate feature list\n",
    "```\n",
    "python3 gen_feat.py --inf_list toy_imgs/img.list --feat_list toy_imgs/feat.list --resume magface_epoch_00025.pth\n",
    "```"
   ]
  },
  {
   "cell_type": "markdown",
   "metadata": {},
   "source": [
    "### Imports and Utility functions"
   ]
  },
  {
   "cell_type": "code",
   "execution_count": 39,
   "metadata": {},
   "outputs": [
    {
     "name": "stdout",
     "output_type": "stream",
     "text": [
      "True\n"
     ]
    }
   ],
   "source": [
    "import numpy as np\n",
    "import cv2\n",
    "from matplotlib import pyplot as plt\n",
    "import seaborn as sns\n",
    "import torch\n",
    "sns.set(style=\"white\") \n",
    "%matplotlib inline\n",
    "\n",
    "print(torch.cuda.is_available())\n",
    "\n",
    "def imshow(img):\n",
    "    plt.imshow(cv2.cvtColor(img, cv2.COLOR_BGR2RGB))\n",
    "def show(idx_):\n",
    "    imgname = imgnames[idx_]\n",
    "    img = cv2.imread(imgname)\n",
    "    imshow(img)\n",
    "    print(img_2_mag[imgname], imgname)    "
   ]
  },
  {
   "cell_type": "markdown",
   "metadata": {},
   "source": [
    "### Dictionaries with features and magnitudes"
   ]
  },
  {
   "cell_type": "code",
   "execution_count": 40,
   "metadata": {},
   "outputs": [
    {
     "name": "stdout",
     "output_type": "stream",
     "text": [
      "['toy_imgs/000001.jpg', 'toy_imgs/000002.jpg', 'toy_imgs/000003.jpg', 'toy_imgs/000004.jpg', 'toy_imgs/000005.jpg', 'toy_imgs/000006.jpg', 'toy_imgs/000007.jpg', 'toy_imgs/000008.jpg', 'toy_imgs/000009.jpg', 'toy_imgs/000010.jpg', 'toy_imgs/000011.jpg', 'toy_imgs/000012.jpg', 'toy_imgs/000013.jpg', 'toy_imgs/000014.jpg', 'toy_imgs/000015.jpg', 'toy_imgs/000016.jpg', 'toy_imgs/000017.jpg', 'toy_imgs/000018.jpg', 'toy_imgs/000019.jpg', 'toy_imgs/000020.jpg', 'toy_imgs/000021.jpg', 'toy_imgs/000022.jpg', 'toy_imgs/000023.jpg', 'toy_imgs/000024.jpg', 'toy_imgs/000025.jpg', 'toy_imgs/000026.jpg', 'toy_imgs/000027.jpg', 'toy_imgs/000028.jpg', 'toy_imgs/000029.jpg', 'toy_imgs/000030.jpg', 'toy_imgs/000031.jpg', 'toy_imgs/000032.jpg', 'toy_imgs/000033.jpg', 'toy_imgs/000034.jpg', 'toy_imgs/000035.jpg', 'toy_imgs/000036.jpg', 'toy_imgs/000037.jpg', 'toy_imgs/000038.jpg', 'toy_imgs/000039.jpg', 'toy_imgs/000040.jpg', 'toy_imgs/000041.jpg', 'toy_imgs/000042.jpg', 'toy_imgs/000043.jpg', 'toy_imgs/000044.jpg', 'toy_imgs/000045.jpg', 'toy_imgs/000046.jpg', 'toy_imgs/000047.jpg', 'toy_imgs/000048.jpg', 'toy_imgs/000049.jpg', 'toy_imgs/000051.jpg', 'toy_imgs/000052.jpg', 'toy_imgs/000053.jpg', 'toy_imgs/000054.jpg', 'toy_imgs/000055.jpg', 'toy_imgs/000056.jpg', 'toy_imgs/000057.jpg', 'toy_imgs/000058.jpg', 'toy_imgs/000059.jpg', 'toy_imgs/000060.jpg', 'toy_imgs/000061.jpg', 'toy_imgs/000062.jpg', 'toy_imgs/000063.jpg', 'toy_imgs/000064.jpg', 'toy_imgs/000065.jpg', 'toy_imgs/000066.jpg', 'toy_imgs/000067.jpg', 'toy_imgs/000068.jpg', 'toy_imgs/000069.jpg', 'toy_imgs/000070.jpg', 'toy_imgs/000071.jpg', 'toy_imgs/000072.jpg', 'toy_imgs/000073.jpg', 'toy_imgs/000074.jpg', 'toy_imgs/000075.jpg', 'toy_imgs/000076.jpg', 'toy_imgs/000077.jpg', 'toy_imgs/000078.jpg', 'toy_imgs/000079.jpg', 'toy_imgs/000080.jpg', 'toy_imgs/000081.jpg', 'toy_imgs/000083.jpg', 'toy_imgs/000084.jpg', 'toy_imgs/000085.jpg', 'toy_imgs/000086.jpg', 'toy_imgs/000087.jpg', 'toy_imgs/000088.jpg', 'toy_imgs/000089.jpg', 'toy_imgs/000090.jpg', 'toy_imgs/000091.jpg', 'toy_imgs/000092.jpg', 'toy_imgs/000093.jpg', 'toy_imgs/000094.jpg', 'toy_imgs/000095.jpg', 'toy_imgs/000096.jpg', 'toy_imgs/000097.jpg', 'toy_imgs/000098.jpg', 'toy_imgs/000099.jpg', 'toy_imgs/000100.jpg', 'toy_imgs/000101.jpg', 'toy_imgs/000102.jpg', 'toy_imgs/000103.jpg', 'toy_imgs/000104.jpg', 'toy_imgs/000105.jpg', 'toy_imgs/000106.jpg', 'toy_imgs/000107.jpg', 'toy_imgs/000108.jpg', 'toy_imgs/000109.jpg', 'toy_imgs/000110.jpg', 'toy_imgs/000111.jpg', 'toy_imgs/000112.jpg', 'toy_imgs/000113.jpg', 'toy_imgs/000114.jpg', 'toy_imgs/000115.jpg', 'toy_imgs/000116.jpg', 'toy_imgs/000117.jpg', 'toy_imgs/000118.jpg', 'toy_imgs/000119.jpg', 'toy_imgs/000120.jpg', 'toy_imgs/000121.jpg', 'toy_imgs/000122.jpg', 'toy_imgs/000123.jpg', 'toy_imgs/000124.jpg', 'toy_imgs/000125.jpg', 'toy_imgs/000126.jpg', 'toy_imgs/000127.jpg', 'toy_imgs/000128.jpg', 'toy_imgs/000129.jpg', 'toy_imgs/000130.jpg', 'toy_imgs/000131.jpg', 'toy_imgs/000132.jpg', 'toy_imgs/000133.jpg', 'toy_imgs/000134.jpg', 'toy_imgs/000135.jpg', 'toy_imgs/000136.jpg', 'toy_imgs/000137.jpg', 'toy_imgs/000138.jpg', 'toy_imgs/000139.jpg', 'toy_imgs/000140.jpg', 'toy_imgs/000141.jpg', 'toy_imgs/000142.jpg', 'toy_imgs/000143.jpg', 'toy_imgs/000144.jpg', 'toy_imgs/000145.jpg', 'toy_imgs/000146.jpg', 'toy_imgs/000147.jpg', 'toy_imgs/000148.jpg', 'toy_imgs/000149.jpg', 'toy_imgs/000150.jpg', 'toy_imgs/000151.jpg', 'toy_imgs/000152.jpg', 'toy_imgs/000153.jpg', 'toy_imgs/000154.jpg', 'toy_imgs/000155.jpg', 'toy_imgs/000156.jpg', 'toy_imgs/000157.jpg', 'toy_imgs/000158.jpg', 'toy_imgs/000159.jpg', 'toy_imgs/000160.jpg', 'toy_imgs/000161.jpg', 'toy_imgs/000162.jpg', 'toy_imgs/000163.jpg', 'toy_imgs/000164.jpg', 'toy_imgs/000165.jpg', 'toy_imgs/000166.jpg', 'toy_imgs/000167.jpg', 'toy_imgs/000168.jpg', 'toy_imgs/000169.jpg', 'toy_imgs/000170.jpg', 'toy_imgs/000171.jpg', 'toy_imgs/000172.jpg', 'toy_imgs/000173.jpg', 'toy_imgs/000174.jpg', 'toy_imgs/000175.jpg', 'toy_imgs/000176.jpg', 'toy_imgs/000177.jpg', 'toy_imgs/000178.jpg', 'toy_imgs/000179.jpg', 'toy_imgs/000180.jpg', 'toy_imgs/000181.jpg', 'toy_imgs/000182.jpg', 'toy_imgs/000183.jpg', 'toy_imgs/000184.jpg', 'toy_imgs/000185.jpg', 'toy_imgs/000186.jpg', 'toy_imgs/000187.jpg', 'toy_imgs/000188.jpg', 'toy_imgs/000189.jpg', 'toy_imgs/000190.jpg', 'toy_imgs/000191.jpg', 'toy_imgs/000192.jpg', 'toy_imgs/000193.jpg', 'toy_imgs/000194.jpg', 'toy_imgs/000195.jpg', 'toy_imgs/000196.jpg', 'toy_imgs/000197.jpg', 'toy_imgs/000198.jpg', 'toy_imgs/000199.jpg', 'toy_imgs/000200.jpg', 'toy_imgs/000201.jpg', 'toy_imgs/000202.jpg']\n",
      "_________________________________________________________________________\n",
      "length of dictionary with key = image name, value=[features] 200\n",
      "length of dictionary with key = image name, value=magnitude of the features 200\n"
     ]
    }
   ],
   "source": [
    "with open('toy_imgs/feat.list', 'r') as f:\n",
    "    lines = f.readlines()\n",
    "\n",
    "img_2_feats = {} #dictionary of features\n",
    "img_2_mag = {} #dictionary of magnitudes\n",
    "for line in lines:\n",
    "    parts = line.strip().split(' ')\n",
    "    imgname = parts[0] #image name\n",
    "    feats = [float(e) for e in parts[1:]] #list with features\n",
    "    mag = np.linalg.norm(feats) #euclidean norm of the features (one per image)\n",
    "    img_2_feats[imgname] = feats/mag #normalization\n",
    "    img_2_mag[imgname] = mag #dictionary with key = image name, value = magnitude of the features\n",
    "\n",
    "\n",
    "imgnames = list(img_2_mag.keys()) #list of image names extracted from the dictionary\n",
    "mags = [img_2_mag[imgname] for imgname in imgnames]\n",
    "sort_idx = np.argsort(mags)\n",
    "\n",
    "print(imgnames)\n",
    "\n",
    "print(\"_________________________________________________________________________\")\n",
    "print(f\"length of dictionary with key = image name, value=[features] {len(img_2_feats)}\")\n",
    "print(f\"length of dictionary with key = image name, value=magnitude of the features {len(img_2_mag)}\")"
   ]
  },
  {
   "cell_type": "markdown",
   "metadata": {},
   "source": [
    "### Correlations"
   ]
  },
  {
   "cell_type": "code",
   "execution_count": 41,
   "metadata": {},
   "outputs": [
    {
     "name": "stdout",
     "output_type": "stream",
     "text": [
      "number of correlations computed: 19900\n",
      "average of correlations between non-mated images: 0.09731181023367828\n",
      "Minimum correlation: -0.21132802741078965\n",
      "Maximum correlation: 0.5022013613625917\n",
      "Standard deviation of correlations: 0.08910612876024562\n",
      "Skewness of correlations: 0.31457748423897985\n"
     ]
    }
   ],
   "source": [
    "# function to compute correlation between two images based on features\n",
    "def compute_feature_correlation(feats1, feats2):\n",
    "    return np.dot(feats1, feats2) / (np.linalg.norm(feats1) * np.linalg.norm(feats2)) # dot product / (norm1 * norm2) -> cosine similarity\n",
    "\n",
    "\n",
    "#compute average correlation between all the images\n",
    "def calculate_average_correlation(original_images):\n",
    "    correlations = []\n",
    "    \n",
    "    for i in range(len(original_images)):\n",
    "        for j in range(i + 1, len(original_images)):\n",
    "            correlation = compute_feature_correlation(img_2_feats[original_images[i]], img_2_feats[original_images[j]])\n",
    "            correlations.append(correlation)\n",
    "    \n",
    "    return np.mean(correlations), correlations\n",
    "\n",
    "non_mated_images = list(img_2_mag.keys()) #list of image names extracted from the dictionary\n",
    "mags = [img_2_mag[imgname] for imgname in imgnames]\n",
    "sort_idx = np.argsort(mags)\n",
    "\n",
    "\n",
    "\n",
    "avg_corr_originals, correlations = calculate_average_correlation(non_mated_images)\n",
    "print(f\"number of correlations computed: {len(correlations)}\")\n",
    "print(f\"average of correlations between non-mated images: {avg_corr_originals}\")\n",
    "# Additional statistics\n",
    "min_corr = np.min(correlations)\n",
    "max_corr = np.max(correlations)\n",
    "std_dev_corr = np.std(correlations)\n",
    "skewness_corr = np.mean((correlations - np.mean(correlations))**3) / (np.std(correlations)**3)\n",
    "\n",
    "print(f\"Minimum correlation: {min_corr}\")\n",
    "print(f\"Maximum correlation: {max_corr}\")\n",
    "print(f\"Standard deviation of correlations: {std_dev_corr}\")\n",
    "print(f\"Skewness of correlations: {skewness_corr}\")\n",
    "\n"
   ]
  },
  {
   "cell_type": "markdown",
   "metadata": {},
   "source": [
    "### Histogram of correlations"
   ]
  },
  {
   "cell_type": "code",
   "execution_count": 46,
   "metadata": {},
   "outputs": [
    {
     "data": {
      "image/png": "[encoded data removed]",
      "text/plain": [
       "<Figure size 800x600 with 1 Axes>"
      ]
     },
     "metadata": {},
     "output_type": "display_data"
    }
   ],
   "source": [
    "import matplotlib.pyplot as plt\n",
    "\n",
    "# Plot the histogram of correlations\n",
    "plt.figure(figsize=(8, 6))\n",
    "plt.hist(correlations, bins=20, color='skyblue', edgecolor='black', alpha=0.7)\n",
    "plt.title('Distribution of Correlations among non mated Images')\n",
    "plt.xlabel('Correlation')\n",
    "plt.ylabel('Frequency')\n",
    "plt.grid(True)\n",
    "plt.show()\n",
    "\n",
    "\n"
   ]
  },
  {
   "cell_type": "markdown",
   "metadata": {},
   "source": [
    "### Save correlations of non mated images"
   ]
  },
  {
   "cell_type": "code",
   "execution_count": 44,
   "metadata": {},
   "outputs": [],
   "source": [
    "# Write correlations to a text file\n",
    "with open('C:/Users/Admin/Documents/HCAI/BIOMETRIC_SYSTEMS/Face_anonymization_experiments/MagFace/inference/output/non_mated_correlations.txt', 'w') as file:\n",
    "    for correlation in correlations:\n",
    "        file.write(f\"{correlation:.18e}\\n\")\n"
   ]
  }
 ],
 "metadata": {
  "kernelspec": {
   "display_name": "facerec",
   "language": "python",
   "name": "python3"
  },
  "language_info": {
   "codemirror_mode": {
    "name": "ipython",
    "version": 3
   },
   "file_extension": ".py",
   "mimetype": "text/x-python",
   "name": "python",
   "nbconvert_exporter": "python",
   "pygments_lexer": "ipython3",
   "version": "3.10.14"
  }
 },
 "nbformat": 4,
 "nbformat_minor": 2
}
